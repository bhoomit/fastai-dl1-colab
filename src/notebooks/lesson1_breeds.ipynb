{
  "nbformat": 4,
  "nbformat_minor": 0,
  "metadata": {
    "colab": {
      "name": "lesson1_breeds.ipynb",
      "version": "0.3.2",
      "provenance": [],
      "collapsed_sections": [
        "uMCHRjf7FpZM",
        "kpF26WwAFpZQ",
        "ZOLLSumMFpZZ",
        "7duJgHTGFpZs",
        "i4te41j8FpaU",
        "x3nwn-HQFpam"
      ],
      "toc_visible": true,
      "include_colab_link": true
    },
    "kernelspec": {
      "display_name": "Python 3",
      "language": "python",
      "name": "python3"
    },
    "accelerator": "GPU"
  },
  "cells": [
    {
      "cell_type": "markdown",
      "metadata": {
        "id": "view-in-github",
        "colab_type": "text"
      },
      "source": [
        "[View in Colaboratory](https://colab.research.google.com/github/bhoomit/fastai-dl1-colab/blob/master/src/notebooks/lesson1_breeds.ipynb)"
      ]
    },
    {
      "metadata": {
        "id": "hpSFJXAvFpX4",
        "colab_type": "text"
      },
      "cell_type": "markdown",
      "source": [
        "# Dogs breeds\n",
        "\n",
        "https://youtu.be/JNxcznsrRb8?t=1h31m8s"
      ]
    },
    {
      "metadata": {
        "id": "dT0EvbdaMHBq",
        "colab_type": "text"
      },
      "cell_type": "markdown",
      "source": [
        "# Setting up things"
      ]
    },
    {
      "metadata": {
        "id": "5oINz9UxFpX6",
        "colab_type": "code",
        "colab": {}
      },
      "cell_type": "code",
      "source": [
        "%matplotlib inline"
      ],
      "execution_count": 0,
      "outputs": []
    },
    {
      "metadata": {
        "id": "N7a_9JsUUKeA",
        "colab_type": "text"
      },
      "cell_type": "markdown",
      "source": [
        "## Install Pytorch"
      ]
    },
    {
      "metadata": {
        "id": "yqyPVAEUGzGF",
        "colab_type": "code",
        "colab": {}
      },
      "cell_type": "code",
      "source": [
        "# http://pytorch.org/\n",
        "from os import path\n",
        "from wheel.pep425tags import get_abbr_impl, get_impl_ver, get_abi_tag\n",
        "platform = '{}{}-{}'.format(get_abbr_impl(), get_impl_ver(), get_abi_tag())\n",
        "\n",
        "accelerator = 'cu80' if path.exists('/opt/bin/nvidia-smi') else 'cpu'\n",
        "print(accelerator)\n",
        "\n",
        "!pip install --upgrade pip\n",
        "!pip install -q http://download.pytorch.org/whl/{accelerator}/torch-0.3.1-{platform}-linux_x86_64.whl torchvision"
      ],
      "execution_count": 0,
      "outputs": []
    },
    {
      "metadata": {
        "id": "_pHaPFLmUN2X",
        "colab_type": "text"
      },
      "cell_type": "markdown",
      "source": [
        "## Other packages"
      ]
    },
    {
      "metadata": {
        "id": "HdzCKaUtHpTJ",
        "colab_type": "code",
        "colab": {}
      },
      "cell_type": "code",
      "source": [
        "!pip install -q numpy scipy pandas matplotlib sklearn tqdm livelossplot \n",
        "!pip install fastai==0.7 kaggle\n",
        "!pip install --no-cache-dir -I pillow==4.0.0"
      ],
      "execution_count": 0,
      "outputs": []
    },
    {
      "metadata": {
        "id": "zJDmW7zAURuF",
        "colab_type": "text"
      },
      "cell_type": "markdown",
      "source": [
        "## Import everything"
      ]
    },
    {
      "metadata": {
        "id": "XbitYClUHp3S",
        "colab_type": "code",
        "colab": {}
      },
      "cell_type": "code",
      "source": [
        "import numpy as np\n",
        "import pandas as pd\n",
        "import matplotlib.pyplot as plt\n",
        "import numpy\n",
        "import pandas\n",
        "import time\n",
        "from sklearn.preprocessing import OneHotEncoder, LabelEncoder\n",
        "\n",
        "from tqdm import trange\n",
        "from itertools import zip_longest\n",
        "import pickle\n",
        "import sklearn\n",
        "import math\n",
        "import sklearn.metrics\n",
        "\n",
        "import torch\n",
        "import torch.nn as nn\n",
        "import torch.nn.functional as F\n",
        "import torch.optim as optim\n",
        "from torch.autograd import Variable\n",
        "\n",
        "torch.manual_seed(1)"
      ],
      "execution_count": 0,
      "outputs": []
    },
    {
      "metadata": {
        "id": "uF5RSubVFpX9",
        "colab_type": "code",
        "colab": {}
      },
      "cell_type": "code",
      "source": [
        "from fastai.imports import *\n",
        "from fastai.torch_imports import *\n",
        "from fastai.transforms import *\n",
        "from fastai.conv_learner import *\n",
        "from fastai.model import *\n",
        "from fastai.dataset import *\n",
        "from fastai.sgdr import *\n",
        "from fastai.plots import *"
      ],
      "execution_count": 0,
      "outputs": []
    },
    {
      "metadata": {
        "id": "Czq8jSDqFpX_",
        "colab_type": "code",
        "colab": {}
      },
      "cell_type": "code",
      "source": [
        "torch.cuda.set_device(0)"
      ],
      "execution_count": 0,
      "outputs": []
    },
    {
      "metadata": {
        "id": "XOdaLQT4FpYC",
        "colab_type": "text"
      },
      "cell_type": "markdown",
      "source": [
        "## Kaggle Setup\n",
        "\n",
        "1. Create account https://www.kaggle.com/\n",
        "2. Go to your account settings page: https://www.kaggle.com/bhoomitvasani/account\n",
        "3. Click on **Create New API Token**\n",
        "4. Upload it to your Google Drive.\n",
        "\n",
        "Kaggle Dog Breed Identification. Get data from https://www.kaggle.com/c/dog-breed-identification"
      ]
    },
    {
      "metadata": {
        "id": "FvRL4SHjL_VW",
        "colab_type": "code",
        "colab": {}
      },
      "cell_type": "code",
      "source": [
        "from googleapiclient.discovery import build\n",
        "import io, os\n",
        "from googleapiclient.http import MediaIoBaseDownload\n",
        "from google.colab import auth\n",
        "auth.authenticate_user()\n",
        "drive_service = build('drive', 'v3')\n",
        "print(drive_service.files().list().execute())\n",
        "results = drive_service.files().list(\n",
        "        q=\"name = 'kaggle.json'\", fields=\"files(id, name)\"\n",
        ").execute()\n",
        "kaggle_api_key = results.get('files', [])\n",
        "filename = \"/root/.kaggle/kaggle.json\"\n",
        "os.makedirs(os.path.dirname(filename), exist_ok=True)\n",
        "print(kaggle_api_key)\n",
        "request = drive_service.files().get_media(fileId=kaggle_api_key[0]['id'])\n",
        "fh = io.FileIO(filename, 'wb')\n",
        "downloader = MediaIoBaseDownload(fh, request)\n",
        "done = False\n",
        "while done is False:\n",
        "    status, done = downloader.next_chunk()\n",
        "    print(\"Download %d%%.\" % int(status.progress() * 100))\n",
        "os.chmod(filename, 600)"
      ],
      "execution_count": 0,
      "outputs": []
    },
    {
      "metadata": {
        "id": "Wbk-BCDYS_7m",
        "colab_type": "text"
      },
      "cell_type": "markdown",
      "source": [
        "### Download Dog bread dataset"
      ]
    },
    {
      "metadata": {
        "id": "jjlLQFJoM7eH",
        "colab_type": "code",
        "colab": {}
      },
      "cell_type": "code",
      "source": [
        "PATH = \"data/dogbreed/\"\n",
        "!kaggle competitions files -c dog-breed-identification\n",
        "!kaggle competitions download  -c dog-breed-identification -p '{PATH}'\n",
        "!unzip '{PATH}*.zip' -d '{PATH}' > /dev/null"
      ],
      "execution_count": 0,
      "outputs": []
    },
    {
      "metadata": {
        "id": "sxuCp78xUAzl",
        "colab_type": "text"
      },
      "cell_type": "markdown",
      "source": [
        "# Lets get started"
      ]
    },
    {
      "metadata": {
        "id": "u4AzpgcuFpYD",
        "colab_type": "code",
        "colab": {}
      },
      "cell_type": "code",
      "source": [
        "sz = 224\n",
        "arch = resnext101_64\n",
        "bs = 58"
      ],
      "execution_count": 0,
      "outputs": []
    },
    {
      "metadata": {
        "id": "BUFKFk49FpYG",
        "colab_type": "code",
        "colab": {}
      },
      "cell_type": "code",
      "source": [
        "label_csv = f'{PATH}labels.csv'\n",
        "n = len(list(open(label_csv))) - 1 # header is not counted (-1)\n",
        "val_idxs = get_cv_idxs(n) # random 20% data for validation set"
      ],
      "execution_count": 0,
      "outputs": []
    },
    {
      "metadata": {
        "id": "3ONiJuZPFpYI",
        "colab_type": "code",
        "colab": {}
      },
      "cell_type": "code",
      "source": [
        "n"
      ],
      "execution_count": 0,
      "outputs": []
    },
    {
      "metadata": {
        "id": "XhtREPaxFpYN",
        "colab_type": "code",
        "colab": {}
      },
      "cell_type": "code",
      "source": [
        "len(val_idxs)"
      ],
      "execution_count": 0,
      "outputs": []
    },
    {
      "metadata": {
        "id": "wLFYhNUUFpYQ",
        "colab_type": "code",
        "colab": {}
      },
      "cell_type": "code",
      "source": [
        "# If you haven't downloaded weights.tgz yet, download the file.\n",
        "#     http://forums.fast.ai/t/error-when-trying-to-use-resnext50/7555\n",
        "#     http://forums.fast.ai/t/lesson-2-in-class-discussion/7452/222\n",
        "!mkdir fastai\n",
        "!wget -O fastai/weights.tgz http://files.fast.ai/models/weights.tgz\n",
        "!tar xvfz fastai/weights.tgz -C fastai"
      ],
      "execution_count": 0,
      "outputs": []
    },
    {
      "metadata": {
        "id": "31Dzv1XeFpYS",
        "colab_type": "text"
      },
      "cell_type": "markdown",
      "source": [
        "## Initial exploration"
      ]
    },
    {
      "metadata": {
        "id": "1eUFjdCJFpYT",
        "colab_type": "code",
        "colab": {}
      },
      "cell_type": "code",
      "source": [
        "!ls {PATH}"
      ],
      "execution_count": 0,
      "outputs": []
    },
    {
      "metadata": {
        "id": "uzDQFrwFFpYW",
        "colab_type": "code",
        "colab": {}
      },
      "cell_type": "code",
      "source": [
        "label_df = pd.read_csv(label_csv)"
      ],
      "execution_count": 0,
      "outputs": []
    },
    {
      "metadata": {
        "id": "r1fnO0T0FpYY",
        "colab_type": "code",
        "colab": {}
      },
      "cell_type": "code",
      "source": [
        "label_df.head()"
      ],
      "execution_count": 0,
      "outputs": []
    },
    {
      "metadata": {
        "id": "fv7QcXjiFpYc",
        "colab_type": "code",
        "colab": {}
      },
      "cell_type": "code",
      "source": [
        "label_df.pivot_table(index=\"breed\", aggfunc=len).sort_values('id', ascending=False)"
      ],
      "execution_count": 0,
      "outputs": []
    },
    {
      "metadata": {
        "id": "VPAvelGgFpYe",
        "colab_type": "code",
        "colab": {}
      },
      "cell_type": "code",
      "source": [
        "tfms = tfms_from_model(arch, sz, aug_tfms=transforms_side_on, max_zoom=1.1)\n",
        "data = ImageClassifierData.from_csv(PATH, 'train', f'{PATH}labels.csv', test_name='test', # we need to specify where the test set is if you want to submit to Kaggle competitions\n",
        "                                   val_idxs=val_idxs, suffix='.jpg', tfms=tfms, bs=bs)"
      ],
      "execution_count": 0,
      "outputs": []
    },
    {
      "metadata": {
        "id": "Urqb3g3nFpYg",
        "colab_type": "code",
        "colab": {}
      },
      "cell_type": "code",
      "source": [
        "fn = PATH + data.trn_ds.fnames[0]; fn"
      ],
      "execution_count": 0,
      "outputs": []
    },
    {
      "metadata": {
        "id": "N6LBIS4hFpYk",
        "colab_type": "code",
        "colab": {}
      },
      "cell_type": "code",
      "source": [
        "img = PIL.Image.open(fn); img"
      ],
      "execution_count": 0,
      "outputs": []
    },
    {
      "metadata": {
        "id": "Y4s0yC9YFpYo",
        "colab_type": "code",
        "colab": {}
      },
      "cell_type": "code",
      "source": [
        "img.size"
      ],
      "execution_count": 0,
      "outputs": []
    },
    {
      "metadata": {
        "id": "qJr8EOrVFpYu",
        "colab_type": "code",
        "colab": {}
      },
      "cell_type": "code",
      "source": [
        "size_d = {k: PIL.Image.open(PATH + k).size for k in data.trn_ds.fnames}"
      ],
      "execution_count": 0,
      "outputs": []
    },
    {
      "metadata": {
        "id": "cUm2E4NAFpYx",
        "colab_type": "code",
        "colab": {}
      },
      "cell_type": "code",
      "source": [
        "row_sz, col_sz = list(zip(*size_d.values()))"
      ],
      "execution_count": 0,
      "outputs": []
    },
    {
      "metadata": {
        "id": "uqYedGPcFpY0",
        "colab_type": "code",
        "colab": {}
      },
      "cell_type": "code",
      "source": [
        "row_sz = np.array(row_sz); col_sz = np.array(col_sz)"
      ],
      "execution_count": 0,
      "outputs": []
    },
    {
      "metadata": {
        "id": "zivs09tHFpY1",
        "colab_type": "code",
        "colab": {}
      },
      "cell_type": "code",
      "source": [
        "row_sz[:5]"
      ],
      "execution_count": 0,
      "outputs": []
    },
    {
      "metadata": {
        "id": "4pp-jp-8FpY4",
        "colab_type": "code",
        "colab": {}
      },
      "cell_type": "code",
      "source": [
        "plt.hist(row_sz);"
      ],
      "execution_count": 0,
      "outputs": []
    },
    {
      "metadata": {
        "id": "2d3yvUaoFpY8",
        "colab_type": "code",
        "colab": {}
      },
      "cell_type": "code",
      "source": [
        "plt.hist(row_sz[row_sz < 1000])"
      ],
      "execution_count": 0,
      "outputs": []
    },
    {
      "metadata": {
        "id": "bA8EwtcUFpY-",
        "colab_type": "code",
        "colab": {}
      },
      "cell_type": "code",
      "source": [
        "plt.hist(col_sz);"
      ],
      "execution_count": 0,
      "outputs": []
    },
    {
      "metadata": {
        "id": "e4QDs9L4FpZB",
        "colab_type": "code",
        "colab": {}
      },
      "cell_type": "code",
      "source": [
        "plt.hist(col_sz[col_sz < 1000])"
      ],
      "execution_count": 0,
      "outputs": []
    },
    {
      "metadata": {
        "id": "dv-0CLIqFpZF",
        "colab_type": "code",
        "colab": {}
      },
      "cell_type": "code",
      "source": [
        "len(data.trn_ds), len(data.test_ds)"
      ],
      "execution_count": 0,
      "outputs": []
    },
    {
      "metadata": {
        "id": "bxgX0_MJFpZJ",
        "colab_type": "code",
        "colab": {}
      },
      "cell_type": "code",
      "source": [
        "len(data.classes), data.classes[:5]"
      ],
      "execution_count": 0,
      "outputs": []
    },
    {
      "metadata": {
        "id": "uMCHRjf7FpZM",
        "colab_type": "text"
      },
      "cell_type": "markdown",
      "source": [
        "## Initial model"
      ]
    },
    {
      "metadata": {
        "id": "PvukcznLFpZO",
        "colab_type": "code",
        "colab": {}
      },
      "cell_type": "code",
      "source": [
        "def get_data(sz, bs): # sz: image size, bs: batch size\n",
        "    tfms = tfms_from_model(arch, sz, aug_tfms=transforms_side_on, max_zoom=1.1)\n",
        "    data = ImageClassifierData.from_csv(PATH, 'train', f'{PATH}labels.csv', test_name='test',\n",
        "                                       val_idxs=val_idxs, suffix='.jpg', tfms=tfms, bs=bs)\n",
        "    \n",
        "    # http://forums.fast.ai/t/how-to-train-on-the-full-dataset-using-imageclassifierdata-from-csv/7761/13\n",
        "    # http://forums.fast.ai/t/how-to-train-on-the-full-dataset-using-imageclassifierdata-from-csv/7761/37\n",
        "    return data if sz > 300 else data.resize(340, 'tmp') # Reading the jpgs and resizing is slow for big images, so resizing them all to 340 first saves time\n",
        "\n",
        "#Source:   \n",
        "#    def resize(self, targ, new_path):\n",
        "#        new_ds = []\n",
        "#        dls = [self.trn_dl,self.val_dl,self.fix_dl,self.aug_dl]\n",
        "#        if self.test_dl: dls += [self.test_dl, self.test_aug_dl]\n",
        "#        else: dls += [None,None]\n",
        "#        t = tqdm_notebook(dls)\n",
        "#        for dl in t: new_ds.append(self.resized(dl, targ, new_path))\n",
        "#        t.close()\n",
        "#        return self.__class__(new_ds[0].path, new_ds, self.bs, self.num_workers, self.classes)\n",
        "#File:      ~/fastai/courses/dl1/fastai/dataset.py"
      ],
      "execution_count": 0,
      "outputs": []
    },
    {
      "metadata": {
        "id": "kpF26WwAFpZQ",
        "colab_type": "text"
      },
      "cell_type": "markdown",
      "source": [
        "### Precompute"
      ]
    },
    {
      "metadata": {
        "id": "EKPRKA-xFpZQ",
        "colab_type": "code",
        "colab": {}
      },
      "cell_type": "code",
      "source": [
        "data = get_data(sz, bs)"
      ],
      "execution_count": 0,
      "outputs": []
    },
    {
      "metadata": {
        "id": "dNV9hOQEFpZU",
        "colab_type": "code",
        "colab": {}
      },
      "cell_type": "code",
      "source": [
        "learn = ConvLearner.pretrained(arch, data, precompute=True)"
      ],
      "execution_count": 0,
      "outputs": []
    },
    {
      "metadata": {
        "id": "NYxTVnBUFpZV",
        "colab_type": "code",
        "colab": {}
      },
      "cell_type": "code",
      "source": [
        "learn.fit(1e-2, 5)"
      ],
      "execution_count": 0,
      "outputs": []
    },
    {
      "metadata": {
        "id": "ZOLLSumMFpZZ",
        "colab_type": "text"
      },
      "cell_type": "markdown",
      "source": [
        "### Augment"
      ]
    },
    {
      "metadata": {
        "id": "LNhT41MbFpZa",
        "colab_type": "code",
        "colab": {}
      },
      "cell_type": "code",
      "source": [
        "from sklearn import metrics"
      ],
      "execution_count": 0,
      "outputs": []
    },
    {
      "metadata": {
        "id": "YxWaeAcVFpZc",
        "colab_type": "code",
        "colab": {}
      },
      "cell_type": "code",
      "source": [
        "data = get_data(sz, bs)"
      ],
      "execution_count": 0,
      "outputs": []
    },
    {
      "metadata": {
        "id": "2qmaQriBFpZg",
        "colab_type": "code",
        "colab": {}
      },
      "cell_type": "code",
      "source": [
        "learn = ConvLearner.pretrained(arch, data, precompute=True, ps=0.5)"
      ],
      "execution_count": 0,
      "outputs": []
    },
    {
      "metadata": {
        "id": "9c13urunFpZh",
        "colab_type": "code",
        "colab": {}
      },
      "cell_type": "code",
      "source": [
        "learn.fit(1e-2, 2)"
      ],
      "execution_count": 0,
      "outputs": []
    },
    {
      "metadata": {
        "id": "ESrwidCkFpZk",
        "colab_type": "code",
        "colab": {}
      },
      "cell_type": "code",
      "source": [
        "learn.precompute = False"
      ],
      "execution_count": 0,
      "outputs": []
    },
    {
      "metadata": {
        "id": "LaQbLUSsFpZm",
        "colab_type": "code",
        "colab": {}
      },
      "cell_type": "code",
      "source": [
        "learn.fit(1e-2, 5, cycle_len=1)"
      ],
      "execution_count": 0,
      "outputs": []
    },
    {
      "metadata": {
        "id": "jZiKnUOmFpZo",
        "colab_type": "code",
        "colab": {}
      },
      "cell_type": "code",
      "source": [
        "learn.save('224_pre')"
      ],
      "execution_count": 0,
      "outputs": []
    },
    {
      "metadata": {
        "id": "PNjI9HNkFpZq",
        "colab_type": "code",
        "colab": {}
      },
      "cell_type": "code",
      "source": [
        "learn.load('224_pre')"
      ],
      "execution_count": 0,
      "outputs": []
    },
    {
      "metadata": {
        "id": "7duJgHTGFpZs",
        "colab_type": "text"
      },
      "cell_type": "markdown",
      "source": [
        "## Increase size"
      ]
    },
    {
      "metadata": {
        "id": "FvP6bVyDFpZs",
        "colab_type": "code",
        "colab": {}
      },
      "cell_type": "code",
      "source": [
        "# Starting training on small images for a few epochs, then switching to bigger images, and continuing training is an amazingly effective way to avoid overfitting.\n",
        "\n",
        "# http://forums.fast.ai/t/planet-classification-challenge/7824/96\n",
        "# set_data doesn’t change the model at all. It just gives it new data to train with.\n",
        "learn.set_data(get_data(299, bs)) \n",
        "learn.freeze()\n",
        "\n",
        "#Source:   \n",
        "#    def set_data(self, data, precompute=False):\n",
        "#        super().set_data(data)\n",
        "#        if precompute:\n",
        "#            self.unfreeze()\n",
        "#            self.save_fc1()\n",
        "#            self.freeze()\n",
        "#            self.precompute = True\n",
        "#        else:\n",
        "#            self.freeze()\n",
        "#File:      ~/fastai/courses/dl1/fastai/conv_learner.py"
      ],
      "execution_count": 0,
      "outputs": []
    },
    {
      "metadata": {
        "id": "uqyAJAB2FpZy",
        "colab_type": "code",
        "colab": {}
      },
      "cell_type": "code",
      "source": [
        "learn.summary()"
      ],
      "execution_count": 0,
      "outputs": []
    },
    {
      "metadata": {
        "id": "t18gUl1hFpZ4",
        "colab_type": "code",
        "colab": {}
      },
      "cell_type": "code",
      "source": [
        "learn.fit(1e-2, 3, cycle_len=1)"
      ],
      "execution_count": 0,
      "outputs": []
    },
    {
      "metadata": {
        "id": "abwSN_9JFpZ8",
        "colab_type": "text"
      },
      "cell_type": "markdown",
      "source": [
        "Validation loss is much lower than training loss. This is a sign of underfitting. Cycle_len=1 may be too short. Let's set cycle_mult=2 to find better parameter."
      ]
    },
    {
      "metadata": {
        "id": "OFiRGeT7FpZ9",
        "colab_type": "code",
        "colab": {}
      },
      "cell_type": "code",
      "source": [
        "# When you are under fitting, it means cycle_len=1 is too short (learning rate is getting reset before it had the chance to zoom in properly).\n",
        "learn.fit(1e-2, 3, cycle_len=1, cycle_mult=2) # 1+2+4 = 7 epochs"
      ],
      "execution_count": 0,
      "outputs": []
    },
    {
      "metadata": {
        "id": "gQ6hL-n6FpaA",
        "colab_type": "text"
      },
      "cell_type": "markdown",
      "source": [
        "Training loss and validation loss are getting closer and smaller. We are on right track."
      ]
    },
    {
      "metadata": {
        "id": "mL_kvKp7FpaB",
        "colab_type": "code",
        "colab": {}
      },
      "cell_type": "code",
      "source": [
        "log_preds, y = learn.TTA() # (5, 2044, 120), (2044,)\n",
        "probs = np.mean(np.exp(log_preds),0)\n",
        "accuracy_np(probs, y), metrics.log_loss(y, probs)"
      ],
      "execution_count": 0,
      "outputs": []
    },
    {
      "metadata": {
        "id": "vZQlqShfFpaC",
        "colab_type": "code",
        "colab": {}
      },
      "cell_type": "code",
      "source": [
        "len(data.val_ds.y), data.val_ds.y[:5]"
      ],
      "execution_count": 0,
      "outputs": []
    },
    {
      "metadata": {
        "id": "YB7uFlarFpaG",
        "colab_type": "code",
        "colab": {}
      },
      "cell_type": "code",
      "source": [
        "learn.save('299_pre')"
      ],
      "execution_count": 0,
      "outputs": []
    },
    {
      "metadata": {
        "id": "STAUiSP5FpaI",
        "colab_type": "code",
        "colab": {}
      },
      "cell_type": "code",
      "source": [
        "learn.load('299_pre')"
      ],
      "execution_count": 0,
      "outputs": []
    },
    {
      "metadata": {
        "id": "U78_K1xKFpaK",
        "colab_type": "code",
        "colab": {}
      },
      "cell_type": "code",
      "source": [
        "learn.fit(1e-2, 1, cycle_len=2) # 1+1 = 2 epochs"
      ],
      "execution_count": 0,
      "outputs": []
    },
    {
      "metadata": {
        "id": "5Rx4Xu0GFpaO",
        "colab_type": "code",
        "colab": {}
      },
      "cell_type": "code",
      "source": [
        "learn.save('299_pre')"
      ],
      "execution_count": 0,
      "outputs": []
    },
    {
      "metadata": {
        "id": "mdH_3zYRFpaQ",
        "colab_type": "code",
        "colab": {}
      },
      "cell_type": "code",
      "source": [
        "log_preds, y = learn.TTA()\n",
        "probs = np.mean(np.exp(log_preds),0)\n",
        "accuracy_np(probs, y), metrics.log_loss(y, probs)"
      ],
      "execution_count": 0,
      "outputs": []
    },
    {
      "metadata": {
        "id": "hE1zUh_VFpaU",
        "colab_type": "text"
      },
      "cell_type": "markdown",
      "source": [
        "This dataset is so similar to ImageNet dataset. Training convolution layers doesn't help much. We are not going to unfreeze."
      ]
    },
    {
      "metadata": {
        "id": "i4te41j8FpaU",
        "colab_type": "text"
      },
      "cell_type": "markdown",
      "source": [
        "## Create submission\n",
        "\n",
        "https://youtu.be/9C06ZPF8Uuc?t=1905"
      ]
    },
    {
      "metadata": {
        "id": "zEIe1n-AFpaV",
        "colab_type": "code",
        "colab": {}
      },
      "cell_type": "code",
      "source": [
        "data.classes"
      ],
      "execution_count": 0,
      "outputs": []
    },
    {
      "metadata": {
        "id": "kwDRTChgFpaX",
        "colab_type": "code",
        "colab": {}
      },
      "cell_type": "code",
      "source": [
        "data.test_ds.fnames"
      ],
      "execution_count": 0,
      "outputs": []
    },
    {
      "metadata": {
        "id": "FIV8YKzOFpaa",
        "colab_type": "code",
        "colab": {}
      },
      "cell_type": "code",
      "source": [
        "log_preds, y = learn.TTA(is_test=True) # use test dataset rather than validation dataset\n",
        "probs = np.mean(np.exp(log_preds),0)\n",
        "#accuracy_np(probs, y), metrcs.log_loss(y, probs) # This does not make sense since test dataset has no labels"
      ],
      "execution_count": 0,
      "outputs": []
    },
    {
      "metadata": {
        "id": "_-swV_coFpab",
        "colab_type": "code",
        "colab": {}
      },
      "cell_type": "code",
      "source": [
        "probs.shape # (n_images, n_classes)"
      ],
      "execution_count": 0,
      "outputs": []
    },
    {
      "metadata": {
        "id": "hqP6Ef1MFpad",
        "colab_type": "code",
        "colab": {}
      },
      "cell_type": "code",
      "source": [
        "df = pd.DataFrame(probs)\n",
        "df.columns = data.classes"
      ],
      "execution_count": 0,
      "outputs": []
    },
    {
      "metadata": {
        "id": "DSm1X829Fpaf",
        "colab_type": "code",
        "colab": {}
      },
      "cell_type": "code",
      "source": [
        "df.insert(0, 'id', [o[5:-4] for o in data.test_ds.fnames])"
      ],
      "execution_count": 0,
      "outputs": []
    },
    {
      "metadata": {
        "id": "zyX8Y4Q1Fpag",
        "colab_type": "code",
        "colab": {}
      },
      "cell_type": "code",
      "source": [
        "df.head()"
      ],
      "execution_count": 0,
      "outputs": []
    },
    {
      "metadata": {
        "id": "pF9DQUkAFpai",
        "colab_type": "code",
        "colab": {}
      },
      "cell_type": "code",
      "source": [
        "SUBM = f'{PATH}/subm/'\n",
        "os.makedirs(SUBM, exist_ok=True)\n",
        "df.to_csv(f'{SUBM}subm.gz', compression='gzip', index=False)"
      ],
      "execution_count": 0,
      "outputs": []
    },
    {
      "metadata": {
        "id": "OJK6nIoNFpak",
        "colab_type": "code",
        "colab": {}
      },
      "cell_type": "code",
      "source": [
        "FileLink(f'{SUBM}subm.gz')"
      ],
      "execution_count": 0,
      "outputs": []
    },
    {
      "metadata": {
        "id": "x3nwn-HQFpam",
        "colab_type": "text"
      },
      "cell_type": "markdown",
      "source": [
        "## Individual prediction"
      ]
    },
    {
      "metadata": {
        "id": "DQ6zShXaFpam",
        "colab_type": "code",
        "colab": {}
      },
      "cell_type": "code",
      "source": [
        "fn = data.val_ds.fnames[0]\n",
        "fn"
      ],
      "execution_count": 0,
      "outputs": []
    },
    {
      "metadata": {
        "id": "Wx8ekk_TFpap",
        "colab_type": "code",
        "colab": {}
      },
      "cell_type": "code",
      "source": [
        "Image.open(PATH + fn).resize((150, 150))"
      ],
      "execution_count": 0,
      "outputs": []
    },
    {
      "metadata": {
        "id": "8vUDZ2ALFpas",
        "colab_type": "code",
        "colab": {}
      },
      "cell_type": "code",
      "source": [
        "# Method 1.\n",
        "trn_tfms, val_tfms = tfms_from_model(arch, sz)\n",
        "ds = FilesIndexArrayDataset([fn], np.array([0]), val_tfms, PATH)\n",
        "dl = DataLoader(ds)\n",
        "preds = learn.predict_dl(dl)\n",
        "np.argmax(preds)"
      ],
      "execution_count": 0,
      "outputs": []
    },
    {
      "metadata": {
        "id": "ka-CgpAxFpat",
        "colab_type": "code",
        "colab": {}
      },
      "cell_type": "code",
      "source": [
        "learn.data.classes[np.argmax(preds)]"
      ],
      "execution_count": 0,
      "outputs": []
    },
    {
      "metadata": {
        "id": "pjY5WK_YFpaw",
        "colab_type": "code",
        "colab": {}
      },
      "cell_type": "code",
      "source": [
        "# Method 2.\n",
        "trn_tfms, val_tfms = tfms_from_model(arch, sz)\n",
        "im = val_tfms(open_image(PATH + fn)) # open_image() returns numpy.ndarray\n",
        "preds = learn.predict_array(im[None])\n",
        "np.argmax(preds)"
      ],
      "execution_count": 0,
      "outputs": []
    }
  ]
}